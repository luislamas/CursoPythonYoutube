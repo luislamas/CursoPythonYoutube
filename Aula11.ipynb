{
 "cells": [
  {
   "cell_type": "markdown",
   "metadata": {},
   "source": [
    "# Aula 11 - Otimização\n",
    "## Prof. Luis Lamas\n",
    "\n",
    "Acompanhe os vídeos no canal do SMART Research Group:\n",
    "https://www.youtube.com/channel/UCvV5eUanrGET9LWPB8jzWQw"
   ]
  },
  {
   "cell_type": "markdown",
   "metadata": {},
   "source": [
    "Nessa aula vamos aprender algumas formas diferentes de se encontrar zeros de funções, a partir de otimização (minimização) de funções\n"
   ]
  },
  {
   "cell_type": "markdown",
   "metadata": {},
   "source": [
    "### Importação das Bibliotecas relevantes"
   ]
  },
  {
   "cell_type": "code",
   "execution_count": 1,
   "metadata": {},
   "outputs": [],
   "source": [
    "import numpy as np\n",
    "from matplotlib import pyplot as plt"
   ]
  },
  {
   "cell_type": "markdown",
   "metadata": {},
   "source": [
    "### Método de Newton Raphson\n",
    "Inicialmente, vamos programr diretamente o método de Newton-Raphson.\n",
    "\n",
    "Seja a função $f(x)=3x^2 - 2$\n",
    "\n",
    "Essa função tem duas raizes reais, $x=\\pm\\sqrt{\\frac{2}{3}}=\\pm0.8165$\n",
    "\n",
    "Para o método de Newton-Raphson, partindo-se de um chute inicial ($x_0$)devemos resolver iterativamente a equação abaixo, até que se encontre um resíduo menor do que a tolerância.\n",
    "\n",
    "$x_{i+1} = x_i - \\frac{f(x)}{f'(x)}$\n"
   ]
  },
  {
   "cell_type": "code",
   "execution_count": 2,
   "metadata": {},
   "outputs": [
    {
     "name": "stdout",
     "output_type": "stream",
     "text": [
      "0.8164965809277259\n"
     ]
    }
   ],
   "source": [
    "func = lambda x: 3*x**2 -2\n",
    "der_func = lambda x: 6*x\n",
    "\n",
    "tol = 1e-6\n",
    "res = 10000\n",
    "\n",
    "x = 2\n",
    "\n",
    "while res > tol:\n",
    "    res = func(x)\n",
    "    der_res = der_func(x)\n",
    "    x = x - res/der_res\n",
    "    \n",
    "print(x)"
   ]
  },
  {
   "cell_type": "code",
   "execution_count": 3,
   "metadata": {},
   "outputs": [
    {
     "name": "stdout",
     "output_type": "stream",
     "text": [
      "0.8164965814673877\n"
     ]
    }
   ],
   "source": [
    "func = lambda x: 3*x**2 -2\n",
    "\n",
    "tol = 1e-6\n",
    "delta = 0.01\n",
    "res = 10000\n",
    "x = 2\n",
    "\n",
    "while res > tol:\n",
    "    res = func(x)\n",
    "    res2 = func(x+delta)\n",
    "    der_res = (res2-res)/delta\n",
    "    x = x - res/der_res\n",
    "    \n",
    "print(x)"
   ]
  },
  {
   "cell_type": "code",
   "execution_count": 4,
   "metadata": {},
   "outputs": [
    {
     "data": {
      "text/plain": [
       "0.816496580927726"
      ]
     },
     "execution_count": 4,
     "metadata": {},
     "output_type": "execute_result"
    }
   ],
   "source": [
    "np.sqrt(2/3)"
   ]
  },
  {
   "cell_type": "markdown",
   "metadata": {},
   "source": [
    "### Otimização sem restrição, utilizando o scipy\n",
    "Na sequência, vamos resolver o mesmo problema utilizando funções previamente programadas na biblioteca scipy\n",
    "\n",
    "https://www.scipy.org/"
   ]
  },
  {
   "cell_type": "code",
   "execution_count": 5,
   "metadata": {},
   "outputs": [
    {
     "name": "stdout",
     "output_type": "stream",
     "text": [
      "      fun: 3.6500241273884626e-08\n",
      " hess_inv: array([[0.01619401]])\n",
      "      jac: array([4.47034836e-08])\n",
      "  message: 'Optimization terminated successfully.'\n",
      "     nfev: 48\n",
      "      nit: 4\n",
      "     njev: 24\n",
      "   status: 0\n",
      "  success: True\n",
      "        x: array([0.81649657])\n"
     ]
    }
   ],
   "source": [
    "from scipy.optimize import minimize\n",
    "\n",
    "func = lambda x: np.abs(3*x**2 - 2)\n",
    "\n",
    "res = minimize(func, x0=2)  # , method='Nelder-Mead', tol=1e-6)\n",
    "print(res)"
   ]
  },
  {
   "cell_type": "markdown",
   "metadata": {},
   "source": [
    "Problemas de minimização / maximização"
   ]
  },
  {
   "cell_type": "code",
   "execution_count": 6,
   "metadata": {},
   "outputs": [
    {
     "data": {
      "text/plain": [
       "[<matplotlib.lines.Line2D at 0x200c67bedf0>]"
      ]
     },
     "execution_count": 6,
     "metadata": {},
     "output_type": "execute_result"
    },
    {
     "data": {
      "image/png": "[encoded data removed]",
      "text/plain": [
       "<Figure size 432x288 with 1 Axes>"
      ]
     },
     "metadata": {
      "needs_background": "light"
     },
     "output_type": "display_data"
    }
   ],
   "source": [
    "func_min = lambda x: np.sin(x)\n",
    "\n",
    "t = np.linspace(0, 4*np.pi, 500)\n",
    "plt.plot(t, func_min(t))"
   ]
  },
  {
   "cell_type": "code",
   "execution_count": 7,
   "metadata": {},
   "outputs": [
    {
     "name": "stdout",
     "output_type": "stream",
     "text": [
      "      fun: -1.0\n",
      " hess_inv: array([[6.51988556]])\n",
      "      jac: array([7.4505806e-09])\n",
      "  message: 'Optimization terminated successfully.'\n",
      "     nfev: 16\n",
      "      nit: 2\n",
      "     njev: 8\n",
      "   status: 0\n",
      "  success: True\n",
      "        x: array([4.71238898])\n"
     ]
    }
   ],
   "source": [
    "res = minimize(func_min, x0=2) # , method='Nelder-Mead', tol=1e-6)\n",
    "print(res)"
   ]
  },
  {
   "cell_type": "code",
   "execution_count": 8,
   "metadata": {},
   "outputs": [
    {
     "name": "stdout",
     "output_type": "stream",
     "text": [
      "      fun: -1.0\n",
      " hess_inv: array([[1.00002771]])\n",
      "      jac: array([7.4505806e-09])\n",
      "  message: 'Optimization terminated successfully.'\n",
      "     nfev: 8\n",
      "      nit: 3\n",
      "     njev: 4\n",
      "   status: 0\n",
      "  success: True\n",
      "        x: array([1.57079633])\n"
     ]
    }
   ],
   "source": [
    "func_max = lambda x: -func_min(x)\n",
    "res = minimize(func_max, x0=2)  # , method='Nelder-Mead', tol=1e-6)\n",
    "print(res)\n"
   ]
  },
  {
   "cell_type": "markdown",
   "metadata": {},
   "source": [
    "Vamos utilizar agora uma função de diversas variáveis:\n",
    "\n",
    "$f(x) = -3x_1^2 + \\log{x_2} - \\sqrt{x_3}$"
   ]
  },
  {
   "cell_type": "code",
   "execution_count": 9,
   "metadata": {},
   "outputs": [
    {
     "name": "stdout",
     "output_type": "stream",
     "text": [
      " final_simplex: (array([[-0.02835806,  2.27300746,  0.67025542],\n",
      "       [-0.02835716,  2.2730072 ,  0.67025549],\n",
      "       [-0.02835774,  2.27300735,  0.67025544],\n",
      "       [-0.02835848,  2.27300737,  0.67025525]]), array([4.30922520e-10, 6.02426331e-10, 6.64354016e-10, 9.57665502e-10]))\n",
      "           fun: 4.3092251988952057e-10\n",
      "       message: 'Optimization terminated successfully.'\n",
      "          nfev: 183\n",
      "           nit: 97\n",
      "        status: 0\n",
      "       success: True\n",
      "             x: array([-0.02835806,  2.27300746,  0.67025542])\n",
      "4.3092251988952057e-10\n"
     ]
    }
   ],
   "source": [
    "from scipy.optimize import minimize\n",
    "\n",
    "func = lambda x: np.abs(-3*x[0]**2 + np.log(x[1]) - np.sqrt(x[2]))\n",
    "\n",
    "res = minimize(func, x0=[1, 1, 1], method='Nelder-Mead', tol=1e-6)\n",
    "print(res)\n",
    "\n",
    "print(func(res.x))"
   ]
  },
  {
   "cell_type": "markdown",
   "metadata": {},
   "source": [
    "### Otimização com restrição (limites para os valores)"
   ]
  },
  {
   "cell_type": "code",
   "execution_count": 10,
   "metadata": {},
   "outputs": [
    {
     "data": {
      "text/plain": [
       "[<matplotlib.lines.Line2D at 0x200c88b43d0>]"
      ]
     },
     "execution_count": 10,
     "metadata": {},
     "output_type": "execute_result"
    },
    {
     "data": {
      "image/png": "[encoded data removed]",
      "text/plain": [
       "<Figure size 432x288 with 1 Axes>"
      ]
     },
     "metadata": {
      "needs_background": "light"
     },
     "output_type": "display_data"
    }
   ],
   "source": [
    "func = lambda x: x[0]**3 - 8*x[0]\n",
    "\n",
    "x = np.linspace(-5,5,100)\n",
    "plt.plot(x, func([x,0]))"
   ]
  },
  {
   "cell_type": "code",
   "execution_count": 11,
   "metadata": {},
   "outputs": [
    {
     "name": "stdout",
     "output_type": "stream",
     "text": [
      "     fun: -8.709296862943283\n",
      "     jac: array([-7.49622591e-05, -0.00000000e+00])\n",
      " message: 'Converged (|f_n-f_(n-1)| ~= 0)'\n",
      "    nfev: 60\n",
      "     nit: 4\n",
      "  status: 1\n",
      " success: True\n",
      "       x: array([1.63298552, 1.        ])\n",
      "-8.709296862943283\n"
     ]
    }
   ],
   "source": [
    "from scipy.optimize import minimize\n",
    "\n",
    "limites = ((-2, 2), (0, 1))\n",
    "\n",
    "res = minimize(func, x0=[1, 1], method='TNC', bounds=limites, tol=1e-6)\n",
    "print(res)\n",
    "\n",
    "print(func(res.x))"
   ]
  },
  {
   "cell_type": "code",
   "execution_count": 12,
   "metadata": {},
   "outputs": [
    {
     "data": {
      "text/plain": [
       "[<matplotlib.lines.Line2D at 0x200c890d3a0>,\n",
       " <matplotlib.lines.Line2D at 0x200c890d490>]"
      ]
     },
     "execution_count": 12,
     "metadata": {},
     "output_type": "execute_result"
    },
    {
     "data": {
      "image/png": "[encoded data removed]",
      "text/plain": [
       "<Figure size 432x288 with 1 Axes>"
      ]
     },
     "metadata": {
      "needs_background": "light"
     },
     "output_type": "display_data"
    }
   ],
   "source": [
    "plt.plot(x, func([x,0]), res.x[0], func(res.x), 'k*')"
   ]
  },
  {
   "cell_type": "markdown",
   "metadata": {},
   "source": [
    "### Otimização com restrições\n",
    "\n",
    "Imagine que queremos produzir latas cilíndricas de alumínio com um volume de 350 ml. Sabe-se que o material para construir a lateral da lata custa R\\\\$ 0,10/cm2, e que o material para confeccionar as tampas custa R\\\\$0,15/cm2.\n",
    "\n",
    "Deseja-se encontrar as dimensões da lata (altura e raio da tampa) que minimize o custo."
   ]
  },
  {
   "cell_type": "markdown",
   "metadata": {},
   "source": [
    "O volume da lata é calculado por $V = \\pi\\times r^2 \\times h$ onde $r$ é o raio da tampa e $h$ a altura da lata.\n",
    "\n",
    "Portanto, tem-se a restrição de que $\\pi\\times r^2 \\times h = 350$\n",
    "\n",
    "O custo de produção da lata é $C = 0,15\\times2\\times \\pi \\times r^2 + 0,1\\times2\\times\\pi\\times r\\times h$\n"
   ]
  },
  {
   "cell_type": "code",
   "execution_count": 13,
   "metadata": {},
   "outputs": [
    {
     "name": "stdout",
     "output_type": "stream",
     "text": [
      "     fun: 31.471950542392335\n",
      "     jac: array([12.57756972,  2.09626198])\n",
      " message: 'Optimization terminated successfully'\n",
      "    nfev: 45\n",
      "     nit: 14\n",
      "    njev: 14\n",
      "  status: 0\n",
      " success: True\n",
      "       x: array([ 3.33630448, 10.00891068])\n"
     ]
    }
   ],
   "source": [
    "def custo(x):\n",
    "    r = x[0]\n",
    "    h = x[1]\n",
    "    c = 0.15 * 2 * np.pi * r**2  + 0.1 * 2 * np.pi * r * h\n",
    "    return c\n",
    "\n",
    "def volume(x):\n",
    "    r = x[0]\n",
    "    h = x[1]\n",
    "    v = np.pi * h * r**2\n",
    "    return v\n",
    "    \n",
    "def funcao_objetivo(x):\n",
    "    return custo(x)\n",
    "\n",
    "def restricao(x):\n",
    "    return volume(x)-350\n",
    "\n",
    "rest = [{'type':'eq', 'fun':restricao}]\n",
    "\n",
    "x0 = np.array([3,3])\n",
    "\n",
    "res = minimize(funcao_objetivo, x0, constraints = rest)\n",
    "\n",
    "print(res)\n"
   ]
  },
  {
   "cell_type": "code",
   "execution_count": 14,
   "metadata": {},
   "outputs": [
    {
     "data": {
      "text/plain": [
       "31.471950542392335"
      ]
     },
     "execution_count": 14,
     "metadata": {},
     "output_type": "execute_result"
    }
   ],
   "source": [
    "custo(res.x)"
   ]
  },
  {
   "cell_type": "markdown",
   "metadata": {},
   "source": [
    "Deseja-se agora, maximizar o volume de uma lata, mas mantendo seu preço de produção menor do que R$ 20,00"
   ]
  },
  {
   "cell_type": "code",
   "execution_count": 15,
   "metadata": {},
   "outputs": [
    {
     "name": "stdout",
     "output_type": "stream",
     "text": [
      "     fun: -177.30768017843778\n",
      "     jac: array([-133.33337212,  -22.22220993])\n",
      " message: 'Optimization terminated successfully'\n",
      "    nfev: 45\n",
      "     nit: 12\n",
      "    njev: 11\n",
      "  status: 0\n",
      " success: True\n",
      "       x: array([2.65961446, 7.97885007])\n"
     ]
    }
   ],
   "source": [
    "def custo(x):\n",
    "    r = x[0]\n",
    "    h = x[1]\n",
    "    c = 0.15 * 2 * np.pi * r**2  + 0.1 * 2 * np.pi * r * h\n",
    "    return c\n",
    "\n",
    "def volume(x):\n",
    "    r = x[0]\n",
    "    h = x[1]\n",
    "    v = np.pi * h * r**2\n",
    "    return v\n",
    "    \n",
    "def funcao_objetivo(x):\n",
    "    return -volume(x)\n",
    "\n",
    "def restricao(x):\n",
    "    return 20-custo(x)\n",
    "\n",
    "rest = [{'type':'ineq', 'fun':restricao}]\n",
    "\n",
    "x0 = np.array([3, 3])\n",
    "\n",
    "res = minimize(funcao_objetivo, x0, constraints = rest)\n",
    "\n",
    "print(res)"
   ]
  },
  {
   "cell_type": "code",
   "execution_count": null,
   "metadata": {},
   "outputs": [],
   "source": []
  },
  {
   "cell_type": "code",
   "execution_count": null,
   "metadata": {},
   "outputs": [],
   "source": []
  },
  {
   "cell_type": "code",
   "execution_count": null,
   "metadata": {},
   "outputs": [],
   "source": []
  },
  {
   "cell_type": "code",
   "execution_count": null,
   "metadata": {},
   "outputs": [],
   "source": []
  }
 ],
 "metadata": {
  "kernelspec": {
   "display_name": "Python 3",
   "language": "python",
   "name": "python3"
  },
  "language_info": {
   "codemirror_mode": {
    "name": "ipython",
    "version": 3
   },
   "file_extension": ".py",
   "mimetype": "text/x-python",
   "name": "python",
   "nbconvert_exporter": "python",
   "pygments_lexer": "ipython3",
   "version": "3.8.5"
  }
 },
 "nbformat": 4,
 "nbformat_minor": 4
}
