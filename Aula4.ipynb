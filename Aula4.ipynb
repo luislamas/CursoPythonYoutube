{
 "cells": [
  {
   "cell_type": "markdown",
   "metadata": {},
   "source": [
    "# Aula 4 - Arquivos de Texto\n",
    "## Prof. Luis Lamas\n"
   ]
  },
  {
   "cell_type": "markdown",
   "metadata": {},
   "source": [
    "Nessa aula vamos tratar da manipulação de arquivos de texto. Esse tipo de arquivo é muito usado em entradas e saídas de dados, e por isso merece atenção especial."
   ]
  },
  {
   "cell_type": "markdown",
   "metadata": {},
   "source": [
    "## Abertura e fechamento do arquivo"
   ]
  },
  {
   "cell_type": "markdown",
   "metadata": {},
   "source": [
    "Os arquivos podem ser abertos como leitura (`r`), escrita (`w`) ou append (`a`). Ao se utilizar o comando `open` é criado um objeto que contem o arquivo, e contém diversos métodos a serem explorados."
   ]
  },
  {
   "cell_type": "code",
   "execution_count": 4,
   "metadata": {},
   "outputs": [],
   "source": [
    "file1 = open('ArqTexto.txt', 'w')"
   ]
  },
  {
   "cell_type": "code",
   "execution_count": 5,
   "metadata": {},
   "outputs": [],
   "source": [
    "file1.close()"
   ]
  },
  {
   "cell_type": "markdown",
   "metadata": {},
   "source": [
    "Após o fechamento, observa-se que o arquivo com o nome definido foi criado na pasta de trabalho. É sempre importante lembrar-se de fechar o arquivo ao final do processamento.\n",
    "\n",
    "Uma maneira alternativa de se utilizar arquivos de texto é a partir de um laço `with`, conforme mostrado:"
   ]
  },
  {
   "cell_type": "code",
   "execution_count": 7,
   "metadata": {},
   "outputs": [],
   "source": [
    "with open('ArqTexto2.txt', 'w') as file:\n",
    "    file.write('Luis')"
   ]
  },
  {
   "cell_type": "markdown",
   "metadata": {},
   "source": [
    "## Leitura e escrita"
   ]
  },
  {
   "cell_type": "markdown",
   "metadata": {},
   "source": [
    "A leitura e escrita são realizadas com os métodos `write()`, `read()`, `readline()`, `readlines()`. O método `seek()` permite navegar pelo arquivo de texto."
   ]
  },
  {
   "cell_type": "code",
   "execution_count": 8,
   "metadata": {},
   "outputs": [],
   "source": [
    "file1 = open('ArqTexto.txt', 'w')\n",
    "file1.write('Primeira linha\\n')\n",
    "file1.write('Segunda linha\\n')\n",
    "file1.write('Terceira linha\\n')\n",
    "file1.close()"
   ]
  },
  {
   "cell_type": "code",
   "execution_count": 9,
   "metadata": {},
   "outputs": [],
   "source": [
    "file1 = open('ArqTexto.txt', 'a')\n",
    "file1.write('Quarta linha\\n')\n",
    "file1.write('Quinta linha\\n')\n",
    "file1.write('Sexta linha\\n')\n",
    "file1.close()"
   ]
  },
  {
   "cell_type": "code",
   "execution_count": 10,
   "metadata": {},
   "outputs": [
    {
     "data": {
      "text/plain": [
       "'Primeira linha\\nSegunda linha\\nTerceira linha\\nQuarta linha\\nQuinta linha\\nSexta linha\\n'"
      ]
     },
     "execution_count": 10,
     "metadata": {},
     "output_type": "execute_result"
    }
   ],
   "source": [
    "file1 = open('ArqTexto.txt', 'r')\n",
    "file1.read()"
   ]
  },
  {
   "cell_type": "code",
   "execution_count": 20,
   "metadata": {},
   "outputs": [
    {
     "data": {
      "text/plain": [
       "['Primeira linha\\n',\n",
       " 'Segunda linha\\n',\n",
       " 'Terceira linha\\n',\n",
       " 'Quarta linha\\n',\n",
       " 'Quinta linha\\n',\n",
       " 'Sexta linha\\n']"
      ]
     },
     "execution_count": 20,
     "metadata": {},
     "output_type": "execute_result"
    }
   ],
   "source": [
    "file1.seek(0)\n",
    "file1.readlines()"
   ]
  },
  {
   "cell_type": "markdown",
   "metadata": {},
   "source": [
    "## Manipulação de Strings"
   ]
  },
  {
   "cell_type": "markdown",
   "metadata": {},
   "source": [
    "Por se tratar de arquivos de texto, é muito importante conhecermos alguns métodos para manipulação de strings, que permitem ler, interpretar e separar strings. Em especial, vamos abordar os métodos `find()`, `strip()`, `replace()` e `split()`."
   ]
  },
  {
   "cell_type": "code",
   "execution_count": 25,
   "metadata": {},
   "outputs": [],
   "source": [
    "string = '  Essa é nossa string!!  '"
   ]
  },
  {
   "cell_type": "code",
   "execution_count": 26,
   "metadata": {},
   "outputs": [
    {
     "data": {
      "text/plain": [
       "7"
      ]
     },
     "execution_count": 26,
     "metadata": {},
     "output_type": "execute_result"
    }
   ],
   "source": [
    "string.find('é')"
   ]
  },
  {
   "cell_type": "code",
   "execution_count": 28,
   "metadata": {},
   "outputs": [
    {
     "data": {
      "text/plain": [
       "'Essa é nossa string!!'"
      ]
     },
     "execution_count": 28,
     "metadata": {},
     "output_type": "execute_result"
    }
   ],
   "source": [
    "string.strip()"
   ]
  },
  {
   "cell_type": "code",
   "execution_count": 29,
   "metadata": {},
   "outputs": [
    {
     "data": {
      "text/plain": [
       "'  Essa é nossa string!!!  '"
      ]
     },
     "execution_count": 29,
     "metadata": {},
     "output_type": "execute_result"
    }
   ],
   "source": [
    "string.replace('!!', '!!!')"
   ]
  },
  {
   "cell_type": "code",
   "execution_count": 30,
   "metadata": {},
   "outputs": [
    {
     "data": {
      "text/plain": [
       "['Essa', 'é', 'nossa', 'string!!']"
      ]
     },
     "execution_count": 30,
     "metadata": {},
     "output_type": "execute_result"
    }
   ],
   "source": [
    "string.split()"
   ]
  },
  {
   "cell_type": "code",
   "execution_count": 31,
   "metadata": {},
   "outputs": [
    {
     "data": {
      "text/plain": [
       "['  E', '', 'a é no', '', 'a ', 'tring!!  ']"
      ]
     },
     "execution_count": 31,
     "metadata": {},
     "output_type": "execute_result"
    }
   ],
   "source": [
    "string.split('s')"
   ]
  },
  {
   "cell_type": "markdown",
   "metadata": {},
   "source": [
    "## Exemplos de aplicação"
   ]
  },
  {
   "cell_type": "markdown",
   "metadata": {},
   "source": [
    "### Leitura de dados a partir de um arquivo de texto.\n",
    "\n",
    "\n",
    "\n",
    "\n",
    "    FILE:  ArqProducao.txt\n",
    "      Well:    Prod\n",
    "\n",
    "                                             Y1             Y2             Y2\n",
    "            TIME            DATE           Well  Water Rate SC    Oil Rate SC\n",
    "                                    Bottom-hole                              \n",
    "                                       Pressure                              \n",
    "           (day)                     ((kg/cm2))       (m3/day)       (m3/day)\n",
    "    1.0000000e-006      2018-07-01         100.00           0.00   2.91587e-004\n",
    "    3.0000001e-006      2018-07-01         100.00           0.00   4.02093e-003\n",
    "    4.9999999e-006      2018-07-01         100.00           0.00   9.27269e-003\n",
    "    7.0000001e-006      2018-07-01         100.00           0.00   1.63504e-002\n",
    "    0.0099999998        2018-07-01         100.00           0.00   1.93115e-000\n",
    "     0.020000000        2018-07-01         100.00           0.00   3.16346e-000\n",
    "     0.029999999        2018-07-01         100.00           0.00   3.85308e-000\n",
    "     0.039999999        2018-07-01         100.00           0.00   4.39457e-000\n",
    "     0.050000001        2018-07-01         100.00           0.00   5.06401e-000\n",
    "     0.059999999        2018-07-01         100.00           0.00   5.39374e-000\n",
    "     0.070000000        2018-07-01         100.00           0.00   5.58263e-000\n",
    "     0.079999998        2018-07-01         100.00           0.00   6.10075e-000\n",
    "     0.090000004        2018-07-01         100.00   4.20492e-000   4.45607e-000\n",
    "      0.10000000        2018-07-01         100.00   7.74653e-000   4.17613e-000\n",
    "\n"
   ]
  },
  {
   "cell_type": "code",
   "execution_count": 32,
   "metadata": {},
   "outputs": [],
   "source": [
    "ArqProd = 'Prod.txt'\n",
    "\n",
    "dias = []\n",
    "vazao_oleo = []\n",
    "\n",
    "with open(ArqProd, 'r') as f:\n",
    "    for i, line in enumerate(f):\n",
    "        if i > 7:\n",
    "            valores = line.split()\n",
    "            try:\n",
    "                dias.append(valores[0])\n",
    "                vazao_oleo.append(valores[-1])\n",
    "            except:\n",
    "                pass"
   ]
  },
  {
   "cell_type": "code",
   "execution_count": 33,
   "metadata": {},
   "outputs": [
    {
     "data": {
      "text/plain": [
       "['1.0000000e-006',\n",
       " '3.0000001e-006',\n",
       " '4.9999999e-006',\n",
       " '7.0000001e-006',\n",
       " '0.0099999998',\n",
       " '0.020000000',\n",
       " '0.029999999',\n",
       " '0.039999999',\n",
       " '0.050000001',\n",
       " '0.059999999',\n",
       " '0.070000000',\n",
       " '0.079999998',\n",
       " '0.090000004',\n",
       " '0.10000000']"
      ]
     },
     "execution_count": 33,
     "metadata": {},
     "output_type": "execute_result"
    }
   ],
   "source": [
    "dias"
   ]
  },
  {
   "cell_type": "markdown",
   "metadata": {},
   "source": [
    "### Alteração de um arquivo a partir de um padrão\n",
    "\n",
    "\n",
    "\n",
    "\n",
    "    SOLUTION 1\n",
    "        temp      80\n",
    "        pH        7\n",
    "        Na      1326.16\n",
    "        K        724\n",
    "        Mg       128.9\n",
    "        Ca       147.94 \n",
    "        Sr       8.44\n",
    "        Cl      1677.67\n",
    "        S(6)     0.89\n",
    "        -water    1   # kg\n",
    "    END"
   ]
  },
  {
   "cell_type": "code",
   "execution_count": 34,
   "metadata": {},
   "outputs": [],
   "source": [
    "ArqEntrada = 'Composicao.txt'\n",
    "ArqSaida = 'CompAlterada.txt'\n",
    "novoPH = 6"
   ]
  },
  {
   "cell_type": "code",
   "execution_count": 37,
   "metadata": {},
   "outputs": [
    {
     "name": "stdout",
     "output_type": "stream",
     "text": [
      "SOLUTION 1\n",
      "     temp      80\n",
      "     pH     6 \n",
      "     Na      1326.16\n",
      "     K        724\n",
      "     Mg       128.9\n",
      "     Ca       147.94 \n",
      "     Sr       8.44\n",
      "     Cl      1677.67\n",
      "     S(6)     0.89\n",
      "     -water    1   # kg\n",
      " END "
     ]
    }
   ],
   "source": [
    "with open(ArqEntrada, 'r') as f1, open(ArqSaida, 'w') as f2:\n",
    "    for line in f1:\n",
    "        \n",
    "        if line.find('pH') != -1:\n",
    "            line = f'    pH     {novoPH} \\n'\n",
    "        f2.write(line)\n",
    "        print(line, end=' ')"
   ]
  },
  {
   "cell_type": "code",
   "execution_count": null,
   "metadata": {},
   "outputs": [],
   "source": []
  }
 ],
 "metadata": {
  "kernelspec": {
   "display_name": "Python 3",
   "language": "python",
   "name": "python3"
  },
  "language_info": {
   "codemirror_mode": {
    "name": "ipython",
    "version": 3
   },
   "file_extension": ".py",
   "mimetype": "text/x-python",
   "name": "python",
   "nbconvert_exporter": "python",
   "pygments_lexer": "ipython3",
   "version": "3.8.5"
  }
 },
 "nbformat": 4,
 "nbformat_minor": 4
}
