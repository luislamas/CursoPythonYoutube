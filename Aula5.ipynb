{
 "cells": [
  {
   "cell_type": "markdown",
   "metadata": {},
   "source": [
    "## Definição de Funções"
   ]
  },
  {
   "cell_type": "code",
   "execution_count": 1,
   "metadata": {},
   "outputs": [],
   "source": [
    "def escreve():\n",
    "    print('Hello World!!!')"
   ]
  },
  {
   "cell_type": "code",
   "execution_count": 2,
   "metadata": {},
   "outputs": [
    {
     "name": "stdout",
     "output_type": "stream",
     "text": [
      "Hello World!!!\n"
     ]
    }
   ],
   "source": [
    "escreve()"
   ]
  },
  {
   "cell_type": "markdown",
   "metadata": {},
   "source": [
    "Funções podem ter argumentos de entrada e saída"
   ]
  },
  {
   "cell_type": "code",
   "execution_count": 3,
   "metadata": {},
   "outputs": [],
   "source": [
    "def AreaQuadrado(lado):\n",
    "    area = lado ** 2\n",
    "    return area\n",
    "\n",
    "def PerimetroQuadrado(lado):\n",
    "    perimetro = 4*lado\n",
    "    return perimetro"
   ]
  },
  {
   "cell_type": "code",
   "execution_count": 4,
   "metadata": {},
   "outputs": [
    {
     "data": {
      "text/plain": [
       "9"
      ]
     },
     "execution_count": 4,
     "metadata": {},
     "output_type": "execute_result"
    }
   ],
   "source": [
    "AreaQuadrado(lado = 3)"
   ]
  },
  {
   "cell_type": "code",
   "execution_count": 5,
   "metadata": {},
   "outputs": [
    {
     "data": {
      "text/plain": [
       "4"
      ]
     },
     "execution_count": 5,
     "metadata": {},
     "output_type": "execute_result"
    }
   ],
   "source": [
    "PerimetroQuadrado(lado = 1)"
   ]
  },
  {
   "cell_type": "code",
   "execution_count": 6,
   "metadata": {},
   "outputs": [],
   "source": [
    "def AreaRetangulo(lado1, lado2):\n",
    "    area = lado1 * lado2\n",
    "    return area\n",
    "\n",
    "def PerimetroRetangulo(lado1, lado2):\n",
    "    perimetro = 2*lado1 + 2*lado2\n",
    "    return perimetro"
   ]
  },
  {
   "cell_type": "code",
   "execution_count": 7,
   "metadata": {},
   "outputs": [
    {
     "data": {
      "text/plain": [
       "14"
      ]
     },
     "execution_count": 7,
     "metadata": {},
     "output_type": "execute_result"
    }
   ],
   "source": [
    "PerimetroRetangulo(lado1=5, lado2=2)"
   ]
  },
  {
   "cell_type": "code",
   "execution_count": 8,
   "metadata": {},
   "outputs": [],
   "source": [
    "def GeometriaQuadrado(lado):\n",
    "    area = lado ** 2\n",
    "    perimetro = 4* lado\n",
    "    return(area, perimetro)"
   ]
  },
  {
   "cell_type": "code",
   "execution_count": 9,
   "metadata": {},
   "outputs": [],
   "source": [
    "_, perimetro = GeometriaQuadrado(5)"
   ]
  },
  {
   "cell_type": "code",
   "execution_count": 10,
   "metadata": {},
   "outputs": [
    {
     "data": {
      "text/plain": [
       "20"
      ]
     },
     "execution_count": 10,
     "metadata": {},
     "output_type": "execute_result"
    }
   ],
   "source": [
    "perimetro"
   ]
  },
  {
   "cell_type": "markdown",
   "metadata": {},
   "source": [
    "## Classes"
   ]
  },
  {
   "cell_type": "markdown",
   "metadata": {},
   "source": [
    "Classes permitem a criação de objetos dentro do programa, indicando suas características e métodos (ou comportamentos)"
   ]
  },
  {
   "cell_type": "code",
   "execution_count": 11,
   "metadata": {},
   "outputs": [],
   "source": [
    "class Quadrado():\n",
    "    def __init__(self, lado):\n",
    "        self.lado = lado\n",
    "    def Area(self):\n",
    "        lado = self.lado\n",
    "        area = lado**2\n",
    "        return area\n",
    "    def Perimetro(self):\n",
    "        lado = self.lado\n",
    "        perimetro = 4*lado\n",
    "        return perimetro\n",
    "\n",
    "    "
   ]
  },
  {
   "cell_type": "code",
   "execution_count": 12,
   "metadata": {},
   "outputs": [],
   "source": [
    "class Retangulo():\n",
    "    def __init__(self,lado1, lado2):\n",
    "        self.lado1= lado1\n",
    "        self.lado2= lado2\n",
    "    def Area(self):\n",
    "        lado1 = self.lado1\n",
    "        lado2 = self.lado2\n",
    "        area = lado1*lado2\n",
    "        return area\n",
    "    def Perimetro(self):\n",
    "        lado1 = self.lado1\n",
    "        lado2 = self.lado2\n",
    "        perimetro = 2*lado1*lado2\n",
    "        return perimetro    \n",
    "    "
   ]
  },
  {
   "cell_type": "code",
   "execution_count": 13,
   "metadata": {},
   "outputs": [
    {
     "data": {
      "text/plain": [
       "9"
      ]
     },
     "execution_count": 13,
     "metadata": {},
     "output_type": "execute_result"
    }
   ],
   "source": [
    "Q1 = Quadrado(lado = 3)\n",
    "Q1.Area()"
   ]
  },
  {
   "cell_type": "code",
   "execution_count": 14,
   "metadata": {},
   "outputs": [
    {
     "data": {
      "text/plain": [
       "24"
      ]
     },
     "execution_count": 14,
     "metadata": {},
     "output_type": "execute_result"
    }
   ],
   "source": [
    "R1 = Retangulo(lado1=2, lado2=6)\n",
    "R1.Perimetro()"
   ]
  },
  {
   "cell_type": "code",
   "execution_count": 15,
   "metadata": {},
   "outputs": [],
   "source": [
    "class Figura():\n",
    "    def __init__(self,figura):\n",
    "        self.figura = figura\n",
    "        \n",
    "    def Area(self):\n",
    "        area = self.figura.Area()\n",
    "        return area\n",
    "    \n",
    "    def Perimetro(self):\n",
    "        perimetro = self.figura.Perimetro()\n",
    "        return perimetro\n",
    "    "
   ]
  },
  {
   "cell_type": "code",
   "execution_count": 16,
   "metadata": {},
   "outputs": [],
   "source": [
    "fig1 = Figura(Quadrado(lado=5))\n",
    "fig2 = Figura(Retangulo(lado1=3, lado2=5))"
   ]
  },
  {
   "cell_type": "code",
   "execution_count": 17,
   "metadata": {},
   "outputs": [
    {
     "data": {
      "text/plain": [
       "40"
      ]
     },
     "execution_count": 17,
     "metadata": {},
     "output_type": "execute_result"
    }
   ],
   "source": [
    "fig1.Area() + fig2.Area()"
   ]
  },
  {
   "cell_type": "code",
   "execution_count": null,
   "metadata": {},
   "outputs": [],
   "source": []
  }
 ],
 "metadata": {
  "kernelspec": {
   "display_name": "Python 3",
   "language": "python",
   "name": "python3"
  },
  "language_info": {
   "codemirror_mode": {
    "name": "ipython",
    "version": 3
   },
   "file_extension": ".py",
   "mimetype": "text/x-python",
   "name": "python",
   "nbconvert_exporter": "python",
   "pygments_lexer": "ipython3",
   "version": "3.8.3"
  }
 },
 "nbformat": 4,
 "nbformat_minor": 4
}
