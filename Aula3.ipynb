{
 "cells": [
  {
   "cell_type": "markdown",
   "metadata": {},
   "source": [
    "# Aula 3 - Laços de Repetição\n",
    "## Prof. Luis Lamas\n"
   ]
  },
  {
   "cell_type": "markdown",
   "metadata": {},
   "source": [
    "Nessa aula vamos abordar os principais laços de repetição, fazendo comparações com as abordagens de outras linguagens, e as especificidades do python. Vamos tratar os loops `FOR`, `IF`, `WHILE` e `TRY-EXCEPT`."
   ]
  },
  {
   "cell_type": "markdown",
   "metadata": {},
   "source": [
    "## For"
   ]
  },
  {
   "cell_type": "markdown",
   "metadata": {},
   "source": [
    "Itera uma variávem dentro de uma faixa de valores. Observe no exemplo abaixo, que a variável `i` irá receber um valor variando de zero a 4. Uma diferença interessante do `FOR` no python, em comparação com outras linguagens, é o fato de não ser necessário escrever o comando `ENDIF`. No caso do python, o compilador entende o laço a partir do ident, ou seja, dos espaços antes da linha."
   ]
  },
  {
   "cell_type": "code",
   "execution_count": 4,
   "metadata": {},
   "outputs": [
    {
     "name": "stdout",
     "output_type": "stream",
     "text": [
      "0 1 2 3 4 "
     ]
    }
   ],
   "source": [
    "for i in range(5):\n",
    "    print(i, end=' ')\n"
   ]
  },
  {
   "cell_type": "code",
   "execution_count": 7,
   "metadata": {},
   "outputs": [
    {
     "name": "stdout",
     "output_type": "stream",
     "text": [
      "1 3 6 10 15 "
     ]
    }
   ],
   "source": [
    "a = 0\n",
    "for i in range(1,6):\n",
    "    a += i\n",
    "    print(a, end=' ')"
   ]
  },
  {
   "cell_type": "code",
   "execution_count": 32,
   "metadata": {},
   "outputs": [
    {
     "name": "stdout",
     "output_type": "stream",
     "text": [
      "O fatorial de 7 é igual a 5040\n"
     ]
    }
   ],
   "source": [
    "# Calculo do fatorial\n",
    "x = 7\n",
    "fact = 1\n",
    "for i in range(1,x+1):\n",
    "    fact = fact * i\n",
    "    \n",
    "print('O fatorial de ' + str(x) + ' é igual a ' + str(fact))"
   ]
  },
  {
   "cell_type": "markdown",
   "metadata": {},
   "source": [
    "O argumento após o `in` é um vetor, sobre o qual o comando irá iterar. O comando `range` cria uma sequência desde zero até o argumento (no primeiro exemplo) e desde o primeiro argumento até o segundo argumento (no segundo exemplo). O comando `range`, no entanto, pode ser substituido por um vetor com valores."
   ]
  },
  {
   "cell_type": "code",
   "execution_count": 10,
   "metadata": {},
   "outputs": [
    {
     "name": "stdout",
     "output_type": "stream",
     "text": [
      "1 1\n",
      "3 9\n",
      "6 36\n",
      "8 64\n",
      "10 100\n"
     ]
    }
   ],
   "source": [
    "vetor = [1, 3, 6, 8, 10]\n",
    "for valor in vetor:\n",
    "    print(valor, end=' ')\n",
    "    print(valor**2)"
   ]
  },
  {
   "cell_type": "code",
   "execution_count": 11,
   "metadata": {},
   "outputs": [
    {
     "name": "stdout",
     "output_type": "stream",
     "text": [
      "gato cachorro passarinho "
     ]
    }
   ],
   "source": [
    "strings = ['gato', 'cachorro', 'passarinho']\n",
    "for texto in strings:\n",
    "    print(texto, end=' ')"
   ]
  },
  {
   "cell_type": "markdown",
   "metadata": {},
   "source": [
    "Uma forma alternativa de criar loops `for` em uma única linha é mostrada abaixo "
   ]
  },
  {
   "cell_type": "code",
   "execution_count": 14,
   "metadata": {},
   "outputs": [
    {
     "name": "stdout",
     "output_type": "stream",
     "text": [
      "[0, 1, 4, 9, 16, 25]\n"
     ]
    }
   ],
   "source": [
    "x = [s**2 for s in range(6)]\n",
    "print(x)"
   ]
  },
  {
   "cell_type": "markdown",
   "metadata": {},
   "source": [
    "## If"
   ]
  },
  {
   "cell_type": "markdown",
   "metadata": {},
   "source": [
    "Laços `IF` executam algum trecho de código apenas caso alguma condição seja satisfeita."
   ]
  },
  {
   "cell_type": "code",
   "execution_count": 18,
   "metadata": {},
   "outputs": [
    {
     "name": "stdout",
     "output_type": "stream",
     "text": [
      "Condição Satisfeita!\n"
     ]
    }
   ],
   "source": [
    "val = 3\n",
    "if val > 2:\n",
    "    print('Condição Satisfeita!')"
   ]
  },
  {
   "cell_type": "code",
   "execution_count": 19,
   "metadata": {},
   "outputs": [],
   "source": [
    "val = 1\n",
    "if val > 2:\n",
    "    print('Condição Satisfeita!')"
   ]
  },
  {
   "cell_type": "markdown",
   "metadata": {},
   "source": [
    "Caso a condição não seja verdadeira, pode-se também criar um código a ser executado."
   ]
  },
  {
   "cell_type": "code",
   "execution_count": 26,
   "metadata": {},
   "outputs": [
    {
     "name": "stdout",
     "output_type": "stream",
     "text": [
      "10 é par\n"
     ]
    }
   ],
   "source": [
    "val = 10\n",
    "if val%2 == 0:\n",
    "    print(str(val) + ' é par')\n",
    "else:\n",
    "    print(str(val) + ' é ímpar')"
   ]
  },
  {
   "cell_type": "code",
   "execution_count": 27,
   "metadata": {},
   "outputs": [
    {
     "name": "stdout",
     "output_type": "stream",
     "text": [
      "37 é ímpar\n"
     ]
    }
   ],
   "source": [
    "val = 37\n",
    "if val%2 == 0:\n",
    "    print(str(val) + ' é par')\n",
    "else:\n",
    "    print(str(val) + ' é ímpar')"
   ]
  },
  {
   "cell_type": "markdown",
   "metadata": {},
   "source": [
    "Tem-se também a possibilidade de, caso a primeira condição seja falsa, testar-se uma segunda condição usando o `ELIF`. "
   ]
  },
  {
   "cell_type": "code",
   "execution_count": 35,
   "metadata": {},
   "outputs": [
    {
     "name": "stdout",
     "output_type": "stream",
     "text": [
      "2 é positivo\n"
     ]
    }
   ],
   "source": [
    "x = 2\n",
    "if x > 0:\n",
    "    print(str(x) + ' é positivo')\n",
    "elif x < 0:\n",
    "    print(str(x) + ' é negativo')\n",
    "else:\n",
    "    print(str(x) + ' é igual a zero')\n"
   ]
  },
  {
   "cell_type": "markdown",
   "metadata": {},
   "source": [
    "O laço `IF` também pode ser escrito com a notação simplificada. No caso abaixo, utilizamos essa notação para filtrar valores de dentro de uma lista, de acordo com uma condição."
   ]
  },
  {
   "cell_type": "code",
   "execution_count": 16,
   "metadata": {},
   "outputs": [
    {
     "name": "stdout",
     "output_type": "stream",
     "text": [
      "['m_Oil_n(mol/kgw)', 'm_Oil_nNH+(mol/kgw)', 'm_Oil_coCOOH(mol/kgw)', 'm_Oil_coCOO-(mol/kgw)', 'm_Oil_coCOOCa+(mol/kgw)', 'm_Oil_coCOOMg+(mol/kgw)']\n"
     ]
    }
   ],
   "source": [
    "components = [ 'm_Oil_n(mol/kgw)',  'm_Oil_nNH+(mol/kgw)',  'm_Oil_coCOOH(mol/kgw)',  'm_Oil_coCOO-(mol/kgw)',\n",
    " 'm_Oil_coCOOCa+(mol/kgw)',  'm_Oil_coCOOMg+(mol/kgw)',  'm_Calcite_coCO3H(mol/kgw)',  'm_Calcite_coCO3-(mol/kgw)',\n",
    " 'm_Calcite_coCO3Ca+(mol/kgw)',  'm_Calcite_coCO3Mg+(mol/kgw)',  'm_Calcite_caCaOH(mol/kgw)',\n",
    " 'm_Calcite_caCaOH2+(mol/kgw)',  'm_Calcite_caCaO-(mol/kgw)',  'm_Calcite_caCaHCO3(mol/kgw)',\n",
    " 'm_Calcite_caCaCO3-(mol/kgw)',  'm_Calcite_caCaSO4-(mol/kgw)',]\n",
    "\n",
    "Oil_components = [s for s in components if \"m_Oil_\" in s]\n",
    "print(Oil_components)"
   ]
  },
  {
   "cell_type": "markdown",
   "metadata": {},
   "source": [
    "## While"
   ]
  },
  {
   "cell_type": "markdown",
   "metadata": {},
   "source": [
    "O laço `WHILE` irá repetir a sequência de código enquanto a condição interna for verdadeira. Deve-se tomar um cuidado especial, pois caso a condição de parada não seja satisfeita, acontecerá um loop infinito."
   ]
  },
  {
   "cell_type": "code",
   "execution_count": 36,
   "metadata": {},
   "outputs": [
    {
     "name": "stdout",
     "output_type": "stream",
     "text": [
      "0 1 2 3 4 5 6 7 8 9 "
     ]
    }
   ],
   "source": [
    "cont = 0\n",
    "\n",
    "while cont < 10:\n",
    "    print(cont, end=' ')\n",
    "    cont += 1"
   ]
  },
  {
   "cell_type": "markdown",
   "metadata": {},
   "source": [
    "O loop `WHILE` pode também ser usado com o comando `ELSE`. Dessa forma, um trecho de código será executado quando a condição do laço não for mais satisfeita."
   ]
  },
  {
   "cell_type": "code",
   "execution_count": 39,
   "metadata": {},
   "outputs": [
    {
     "name": "stdout",
     "output_type": "stream",
     "text": [
      "0 1 2 3 4 5 6 7 8 9 \n",
      "Laço finalizado\n"
     ]
    }
   ],
   "source": [
    "cont = 0\n",
    "\n",
    "while cont < 10:\n",
    "    print(cont, end=' ')\n",
    "    cont += 1\n",
    "else:\n",
    "    print('\\nLaço finalizado')"
   ]
  },
  {
   "cell_type": "markdown",
   "metadata": {},
   "source": [
    "## Try / Except"
   ]
  },
  {
   "cell_type": "markdown",
   "metadata": {},
   "source": [
    "Esse tipo de laço permite que uma condição seja testada, e caso algum erro ocorra, alguma outra condição seja executada."
   ]
  },
  {
   "cell_type": "code",
   "execution_count": 44,
   "metadata": {},
   "outputs": [
    {
     "name": "stdout",
     "output_type": "stream",
     "text": [
      "O inverso de 2 é 0.5\n"
     ]
    }
   ],
   "source": [
    "x = 2\n",
    "\n",
    "try:\n",
    "    print('O inverso de ' + str(x) + ' é ' + str(1/x))\n",
    "except:\n",
    "    print('Divisão por zero é impossível!')"
   ]
  },
  {
   "cell_type": "code",
   "execution_count": null,
   "metadata": {},
   "outputs": [],
   "source": []
  }
 ],
 "metadata": {
  "kernelspec": {
   "display_name": "Python 3",
   "language": "python",
   "name": "python3"
  },
  "language_info": {
   "codemirror_mode": {
    "name": "ipython",
    "version": 3
   },
   "file_extension": ".py",
   "mimetype": "text/x-python",
   "name": "python",
   "nbconvert_exporter": "python",
   "pygments_lexer": "ipython3",
   "version": "3.8.3"
  }
 },
 "nbformat": 4,
 "nbformat_minor": 4
}
